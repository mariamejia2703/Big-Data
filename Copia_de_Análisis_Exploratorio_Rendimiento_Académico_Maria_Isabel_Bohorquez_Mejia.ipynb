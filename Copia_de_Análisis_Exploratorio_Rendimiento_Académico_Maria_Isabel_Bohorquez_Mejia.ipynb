{
  "cells": [
    {
      "cell_type": "markdown",
      "metadata": {
        "id": "view-in-github",
        "colab_type": "text"
      },
      "source": [
        "<a href=\"https://colab.research.google.com/github/mariamejia2703/BigData/blob/master/Copia_de_An%C3%A1lisis_Exploratorio_Rendimiento_Acad%C3%A9mico_Maria_Isabel_Bohorquez_Mejia.ipynb\" target=\"_parent\"><img src=\"https://colab.research.google.com/assets/colab-badge.svg\" alt=\"Open In Colab\"/></a>"
      ]
    },
    {
      "cell_type": "markdown",
      "metadata": {
        "id": "DnJmNJkXKiaU"
      },
      "source": [
        "## Introducción.\n",
        ". En particular, se busca analizar la relación entre el **rendimiento escolar**, representado por el promedio general de notas de cada estudiante, y factores determinantes como el **porcentaje de asistencia a clases, y la razón entre docentes y estudiantes de los establecimientos educacionales**. \n",
        "\n",
        "Para este estudio, se utilizarán datos generados y publicados por el  Centro de Estudios del Ministerio de Educación de Chile, https://centroestudios.mineduc.cl/: <br>\n",
        "\n",
        "*El Centro de Estudios pone a disposición del público en general la plataforma Datos Abiertos para compartir información estadística en materia de educación, que incluye bases de datos de establecimientos educacionales, estudiantes y párvulos, docentes y asistentes de la educación, y sostenedores. Además, se entrega información georreferenciada.*\n",
        "\n",
        "En este tutorial, nos enfocaremos en el análisis exploratorio de uno de los conjuntos de datos publicados por el MINEDUC, relativo al rendimiento escolar de los estudiantes de Chile en el año 2021.\n"
      ]
    },
    {
      "cell_type": "markdown",
      "metadata": {
        "id": "jXYUDNrFKiaV"
      },
      "source": [
        "### 1. Lectura de datos"
      ]
    },
    {
      "cell_type": "code",
      "source": [
        "import numpy as np #manejo de listas (vectores) [a,b,c,d]\n",
        "import pandas as pd #manejo de DataFrame\n",
        "import matplotlib.pyplot as plt\n",
        "import seaborn as sns #visualizaciones"
      ],
      "metadata": {
        "id": "Rx8gQM04Zx4-"
      },
      "execution_count": 2,
      "outputs": []
    },
    {
      "cell_type": "code",
      "execution_count": 21,
      "metadata": {
        "id": "8w6Oum_tKiaV",
        "outputId": "94cb1dfa-ed51-459c-bbfc-75bb7209c9d7",
        "colab": {
          "base_uri": "https://localhost:8080/",
          "height": 206
        }
      },
      "outputs": [
        {
          "output_type": "execute_result",
          "data": {
            "text/plain": [
              "   REGION  RURAL TIPO_ENSE  EDAD_ALU  PROM_GRAL  ASISTENCIA SITUACION_FINAL\n",
              "0       9      0    BASICA         8        7.0         100               P\n",
              "1      13      0  MEDIA_CH        16        6.7         100               P\n",
              "2      15      0  MEDIA_CH        17        6.5          90               P\n",
              "3       9      1    BASICA         9        6.4         100               P\n",
              "4      13      0    BASICA        13        5.6          79               P"
            ],
            "text/html": [
              "\n",
              "  <div id=\"df-6c9ee1d0-2104-4846-be30-8ede781a3011\">\n",
              "    <div class=\"colab-df-container\">\n",
              "      <div>\n",
              "<style scoped>\n",
              "    .dataframe tbody tr th:only-of-type {\n",
              "        vertical-align: middle;\n",
              "    }\n",
              "\n",
              "    .dataframe tbody tr th {\n",
              "        vertical-align: top;\n",
              "    }\n",
              "\n",
              "    .dataframe thead th {\n",
              "        text-align: right;\n",
              "    }\n",
              "</style>\n",
              "<table border=\"1\" class=\"dataframe\">\n",
              "  <thead>\n",
              "    <tr style=\"text-align: right;\">\n",
              "      <th></th>\n",
              "      <th>REGION</th>\n",
              "      <th>RURAL</th>\n",
              "      <th>TIPO_ENSE</th>\n",
              "      <th>EDAD_ALU</th>\n",
              "      <th>PROM_GRAL</th>\n",
              "      <th>ASISTENCIA</th>\n",
              "      <th>SITUACION_FINAL</th>\n",
              "    </tr>\n",
              "  </thead>\n",
              "  <tbody>\n",
              "    <tr>\n",
              "      <th>0</th>\n",
              "      <td>9</td>\n",
              "      <td>0</td>\n",
              "      <td>BASICA</td>\n",
              "      <td>8</td>\n",
              "      <td>7.0</td>\n",
              "      <td>100</td>\n",
              "      <td>P</td>\n",
              "    </tr>\n",
              "    <tr>\n",
              "      <th>1</th>\n",
              "      <td>13</td>\n",
              "      <td>0</td>\n",
              "      <td>MEDIA_CH</td>\n",
              "      <td>16</td>\n",
              "      <td>6.7</td>\n",
              "      <td>100</td>\n",
              "      <td>P</td>\n",
              "    </tr>\n",
              "    <tr>\n",
              "      <th>2</th>\n",
              "      <td>15</td>\n",
              "      <td>0</td>\n",
              "      <td>MEDIA_CH</td>\n",
              "      <td>17</td>\n",
              "      <td>6.5</td>\n",
              "      <td>90</td>\n",
              "      <td>P</td>\n",
              "    </tr>\n",
              "    <tr>\n",
              "      <th>3</th>\n",
              "      <td>9</td>\n",
              "      <td>1</td>\n",
              "      <td>BASICA</td>\n",
              "      <td>9</td>\n",
              "      <td>6.4</td>\n",
              "      <td>100</td>\n",
              "      <td>P</td>\n",
              "    </tr>\n",
              "    <tr>\n",
              "      <th>4</th>\n",
              "      <td>13</td>\n",
              "      <td>0</td>\n",
              "      <td>BASICA</td>\n",
              "      <td>13</td>\n",
              "      <td>5.6</td>\n",
              "      <td>79</td>\n",
              "      <td>P</td>\n",
              "    </tr>\n",
              "  </tbody>\n",
              "</table>\n",
              "</div>\n",
              "      <button class=\"colab-df-convert\" onclick=\"convertToInteractive('df-6c9ee1d0-2104-4846-be30-8ede781a3011')\"\n",
              "              title=\"Convert this dataframe to an interactive table.\"\n",
              "              style=\"display:none;\">\n",
              "        \n",
              "  <svg xmlns=\"http://www.w3.org/2000/svg\" height=\"24px\"viewBox=\"0 0 24 24\"\n",
              "       width=\"24px\">\n",
              "    <path d=\"M0 0h24v24H0V0z\" fill=\"none\"/>\n",
              "    <path d=\"M18.56 5.44l.94 2.06.94-2.06 2.06-.94-2.06-.94-.94-2.06-.94 2.06-2.06.94zm-11 1L8.5 8.5l.94-2.06 2.06-.94-2.06-.94L8.5 2.5l-.94 2.06-2.06.94zm10 10l.94 2.06.94-2.06 2.06-.94-2.06-.94-.94-2.06-.94 2.06-2.06.94z\"/><path d=\"M17.41 7.96l-1.37-1.37c-.4-.4-.92-.59-1.43-.59-.52 0-1.04.2-1.43.59L10.3 9.45l-7.72 7.72c-.78.78-.78 2.05 0 2.83L4 21.41c.39.39.9.59 1.41.59.51 0 1.02-.2 1.41-.59l7.78-7.78 2.81-2.81c.8-.78.8-2.07 0-2.86zM5.41 20L4 18.59l7.72-7.72 1.47 1.35L5.41 20z\"/>\n",
              "  </svg>\n",
              "      </button>\n",
              "      \n",
              "  <style>\n",
              "    .colab-df-container {\n",
              "      display:flex;\n",
              "      flex-wrap:wrap;\n",
              "      gap: 12px;\n",
              "    }\n",
              "\n",
              "    .colab-df-convert {\n",
              "      background-color: #E8F0FE;\n",
              "      border: none;\n",
              "      border-radius: 50%;\n",
              "      cursor: pointer;\n",
              "      display: none;\n",
              "      fill: #1967D2;\n",
              "      height: 32px;\n",
              "      padding: 0 0 0 0;\n",
              "      width: 32px;\n",
              "    }\n",
              "\n",
              "    .colab-df-convert:hover {\n",
              "      background-color: #E2EBFA;\n",
              "      box-shadow: 0px 1px 2px rgba(60, 64, 67, 0.3), 0px 1px 3px 1px rgba(60, 64, 67, 0.15);\n",
              "      fill: #174EA6;\n",
              "    }\n",
              "\n",
              "    [theme=dark] .colab-df-convert {\n",
              "      background-color: #3B4455;\n",
              "      fill: #D2E3FC;\n",
              "    }\n",
              "\n",
              "    [theme=dark] .colab-df-convert:hover {\n",
              "      background-color: #434B5C;\n",
              "      box-shadow: 0px 1px 3px 1px rgba(0, 0, 0, 0.15);\n",
              "      filter: drop-shadow(0px 1px 2px rgba(0, 0, 0, 0.3));\n",
              "      fill: #FFFFFF;\n",
              "    }\n",
              "  </style>\n",
              "\n",
              "      <script>\n",
              "        const buttonEl =\n",
              "          document.querySelector('#df-6c9ee1d0-2104-4846-be30-8ede781a3011 button.colab-df-convert');\n",
              "        buttonEl.style.display =\n",
              "          google.colab.kernel.accessAllowed ? 'block' : 'none';\n",
              "\n",
              "        async function convertToInteractive(key) {\n",
              "          const element = document.querySelector('#df-6c9ee1d0-2104-4846-be30-8ede781a3011');\n",
              "          const dataTable =\n",
              "            await google.colab.kernel.invokeFunction('convertToInteractive',\n",
              "                                                     [key], {});\n",
              "          if (!dataTable) return;\n",
              "\n",
              "          const docLinkHtml = 'Like what you see? Visit the ' +\n",
              "            '<a target=\"_blank\" href=https://colab.research.google.com/notebooks/data_table.ipynb>data table notebook</a>'\n",
              "            + ' to learn more about interactive tables.';\n",
              "          element.innerHTML = '';\n",
              "          dataTable['output_type'] = 'display_data';\n",
              "          await google.colab.output.renderOutput(dataTable, element);\n",
              "          const docLink = document.createElement('div');\n",
              "          docLink.innerHTML = docLinkHtml;\n",
              "          element.appendChild(docLink);\n",
              "        }\n",
              "      </script>\n",
              "    </div>\n",
              "  </div>\n",
              "  "
            ]
          },
          "metadata": {},
          "execution_count": 21
        }
      ],
      "source": [
        "df=pd.read_csv('https://raw.githubusercontent.com/paguirre-uc/mds3020_2022/main/semana5/RendimientoEscolar_EDA.csv')\n",
        "df.head()"
      ]
    },
    {
      "cell_type": "markdown",
      "source": [
        "a. ¿Cuántos registros y atributos tiene la base de datos?\n",
        "b. Revisar la BD y transformar a categoría las variables que sean de este tipo.\n",
        "c. Renombrar la columna PROM_GRAL como NOTA_FINAL, TIPO_ENSE como NIVEL_EDUCACION y EDAD_ALU como EDAD_ALUMNO "
      ],
      "metadata": {
        "id": "ER2javRL5QR8"
      }
    },
    {
      "cell_type": "markdown",
      "source": [
        "R// Hay 987653 registros, y 7 atributos. "
      ],
      "metadata": {
        "id": "Dkx163bWaTub"
      }
    },
    {
      "cell_type": "code",
      "source": [
        "df.info()"
      ],
      "metadata": {
        "colab": {
          "base_uri": "https://localhost:8080/"
        },
        "id": "I8_TZnc5Z_sm",
        "outputId": "d444b938-48b5-4988-aa76-d4764fef4a77"
      },
      "execution_count": 4,
      "outputs": [
        {
          "output_type": "stream",
          "name": "stdout",
          "text": [
            "<class 'pandas.core.frame.DataFrame'>\n",
            "RangeIndex: 987653 entries, 0 to 987652\n",
            "Data columns (total 7 columns):\n",
            " #   Column           Non-Null Count   Dtype  \n",
            "---  ------           --------------   -----  \n",
            " 0   REGION           987653 non-null  int64  \n",
            " 1   RURAL            987653 non-null  int64  \n",
            " 2   TIPO_ENSE        987653 non-null  object \n",
            " 3   EDAD_ALU         987653 non-null  int64  \n",
            " 4   PROM_GRAL        987653 non-null  float64\n",
            " 5   ASISTENCIA       987653 non-null  int64  \n",
            " 6   SITUACION_FINAL  987653 non-null  object \n",
            "dtypes: float64(1), int64(4), object(2)\n",
            "memory usage: 52.7+ MB\n"
          ]
        }
      ]
    },
    {
      "cell_type": "code",
      "source": [
        "df['TIPO_ENSE']=df['TIPO_ENSE'].astype('category')"
      ],
      "metadata": {
        "id": "fwHgnpBNajym"
      },
      "execution_count": 6,
      "outputs": []
    },
    {
      "cell_type": "code",
      "source": [
        "df['SITUACION_FINAL']=df['SITUACION_FINAL'].astype('category')\n",
        "df['RURAL']=df['RURAL'].astype('category')"
      ],
      "metadata": {
        "id": "cAQEV6pDaxze"
      },
      "execution_count": 11,
      "outputs": []
    },
    {
      "cell_type": "code",
      "source": [
        "df.info()"
      ],
      "metadata": {
        "colab": {
          "base_uri": "https://localhost:8080/"
        },
        "id": "5wP11P3Da5Ke",
        "outputId": "f8e0c1a0-b103-43d6-ecf4-47f1aaf2d603"
      },
      "execution_count": 12,
      "outputs": [
        {
          "output_type": "stream",
          "name": "stdout",
          "text": [
            "<class 'pandas.core.frame.DataFrame'>\n",
            "RangeIndex: 987653 entries, 0 to 987652\n",
            "Data columns (total 7 columns):\n",
            " #   Column           Non-Null Count   Dtype   \n",
            "---  ------           --------------   -----   \n",
            " 0   REGION           987653 non-null  int64   \n",
            " 1   RURAL            987653 non-null  category\n",
            " 2   NIVEL_EDUCACION  987653 non-null  category\n",
            " 3   EDAD_ALUMNO      987653 non-null  int64   \n",
            " 4   NOTA_FINAL       987653 non-null  float64 \n",
            " 5   ASISTENCIA       987653 non-null  int64   \n",
            " 6   SITUACION_FINAL  987653 non-null  category\n",
            "dtypes: category(3), float64(1), int64(3)\n",
            "memory usage: 33.0 MB\n"
          ]
        }
      ]
    },
    {
      "cell_type": "code",
      "source": [
        "df=df.rename(columns={'PROM_GRAL' : 'NOTA_FINAL'})\n",
        "df=df.rename(columns={'TIPO_ENSE' : 'NIVEL_EDUCACION'})\n",
        "df=df.rename(columns={'EDAD_ALU' : 'EDAD_ALUMNO'})"
      ],
      "metadata": {
        "id": "hl-L-Tk_a_XF"
      },
      "execution_count": 43,
      "outputs": []
    },
    {
      "cell_type": "code",
      "source": [
        "df.info()"
      ],
      "metadata": {
        "colab": {
          "base_uri": "https://localhost:8080/"
        },
        "id": "CHifVyd1bp0V",
        "outputId": "5ea407a7-6c75-4922-eca6-99e352a0ebd6"
      },
      "execution_count": 13,
      "outputs": [
        {
          "output_type": "stream",
          "name": "stdout",
          "text": [
            "<class 'pandas.core.frame.DataFrame'>\n",
            "RangeIndex: 987653 entries, 0 to 987652\n",
            "Data columns (total 7 columns):\n",
            " #   Column           Non-Null Count   Dtype   \n",
            "---  ------           --------------   -----   \n",
            " 0   REGION           987653 non-null  int64   \n",
            " 1   RURAL            987653 non-null  category\n",
            " 2   NIVEL_EDUCACION  987653 non-null  category\n",
            " 3   EDAD_ALUMNO      987653 non-null  int64   \n",
            " 4   NOTA_FINAL       987653 non-null  float64 \n",
            " 5   ASISTENCIA       987653 non-null  int64   \n",
            " 6   SITUACION_FINAL  987653 non-null  category\n",
            "dtypes: category(3), float64(1), int64(3)\n",
            "memory usage: 33.0 MB\n"
          ]
        }
      ]
    },
    {
      "cell_type": "markdown",
      "metadata": {
        "id": "u6qNYKTAKiaW"
      },
      "source": [
        "### 2. ¿Cuántos estudiantes, tipos de educación, regiones hay? ¿Cuál es la región con más estudiantes?"
      ]
    },
    {
      "cell_type": "code",
      "source": [
        "df.describe()"
      ],
      "metadata": {
        "colab": {
          "base_uri": "https://localhost:8080/",
          "height": 300
        },
        "id": "0Y3zrnz9d30l",
        "outputId": "34b8fe61-6b5e-4fd3-fc71-aeaf47d2b85c"
      },
      "execution_count": 22,
      "outputs": [
        {
          "output_type": "execute_result",
          "data": {
            "text/plain": [
              "              REGION          RURAL       EDAD_ALU      PROM_GRAL  \\\n",
              "count  987653.000000  987653.000000  987653.000000  987653.000000   \n",
              "mean        9.446814       0.079774      10.731128       5.802046   \n",
              "std         3.997600       0.270943       4.666320       1.342020   \n",
              "min         1.000000       0.000000       0.000000       0.000000   \n",
              "25%         6.000000       0.000000       8.000000       5.500000   \n",
              "50%        10.000000       0.000000      11.000000       6.100000   \n",
              "75%        13.000000       0.000000      14.000000       6.600000   \n",
              "max        16.000000       1.000000      59.000000       7.000000   \n",
              "\n",
              "          ASISTENCIA  \n",
              "count  987653.000000  \n",
              "mean       85.660207  \n",
              "std        22.693419  \n",
              "min         0.000000  \n",
              "25%        85.000000  \n",
              "50%        91.000000  \n",
              "75%        99.000000  \n",
              "max       100.000000  "
            ],
            "text/html": [
              "\n",
              "  <div id=\"df-e1dd0ca3-c4ee-4d0e-92e2-22a55057c0b3\">\n",
              "    <div class=\"colab-df-container\">\n",
              "      <div>\n",
              "<style scoped>\n",
              "    .dataframe tbody tr th:only-of-type {\n",
              "        vertical-align: middle;\n",
              "    }\n",
              "\n",
              "    .dataframe tbody tr th {\n",
              "        vertical-align: top;\n",
              "    }\n",
              "\n",
              "    .dataframe thead th {\n",
              "        text-align: right;\n",
              "    }\n",
              "</style>\n",
              "<table border=\"1\" class=\"dataframe\">\n",
              "  <thead>\n",
              "    <tr style=\"text-align: right;\">\n",
              "      <th></th>\n",
              "      <th>REGION</th>\n",
              "      <th>RURAL</th>\n",
              "      <th>EDAD_ALU</th>\n",
              "      <th>PROM_GRAL</th>\n",
              "      <th>ASISTENCIA</th>\n",
              "    </tr>\n",
              "  </thead>\n",
              "  <tbody>\n",
              "    <tr>\n",
              "      <th>count</th>\n",
              "      <td>987653.000000</td>\n",
              "      <td>987653.000000</td>\n",
              "      <td>987653.000000</td>\n",
              "      <td>987653.000000</td>\n",
              "      <td>987653.000000</td>\n",
              "    </tr>\n",
              "    <tr>\n",
              "      <th>mean</th>\n",
              "      <td>9.446814</td>\n",
              "      <td>0.079774</td>\n",
              "      <td>10.731128</td>\n",
              "      <td>5.802046</td>\n",
              "      <td>85.660207</td>\n",
              "    </tr>\n",
              "    <tr>\n",
              "      <th>std</th>\n",
              "      <td>3.997600</td>\n",
              "      <td>0.270943</td>\n",
              "      <td>4.666320</td>\n",
              "      <td>1.342020</td>\n",
              "      <td>22.693419</td>\n",
              "    </tr>\n",
              "    <tr>\n",
              "      <th>min</th>\n",
              "      <td>1.000000</td>\n",
              "      <td>0.000000</td>\n",
              "      <td>0.000000</td>\n",
              "      <td>0.000000</td>\n",
              "      <td>0.000000</td>\n",
              "    </tr>\n",
              "    <tr>\n",
              "      <th>25%</th>\n",
              "      <td>6.000000</td>\n",
              "      <td>0.000000</td>\n",
              "      <td>8.000000</td>\n",
              "      <td>5.500000</td>\n",
              "      <td>85.000000</td>\n",
              "    </tr>\n",
              "    <tr>\n",
              "      <th>50%</th>\n",
              "      <td>10.000000</td>\n",
              "      <td>0.000000</td>\n",
              "      <td>11.000000</td>\n",
              "      <td>6.100000</td>\n",
              "      <td>91.000000</td>\n",
              "    </tr>\n",
              "    <tr>\n",
              "      <th>75%</th>\n",
              "      <td>13.000000</td>\n",
              "      <td>0.000000</td>\n",
              "      <td>14.000000</td>\n",
              "      <td>6.600000</td>\n",
              "      <td>99.000000</td>\n",
              "    </tr>\n",
              "    <tr>\n",
              "      <th>max</th>\n",
              "      <td>16.000000</td>\n",
              "      <td>1.000000</td>\n",
              "      <td>59.000000</td>\n",
              "      <td>7.000000</td>\n",
              "      <td>100.000000</td>\n",
              "    </tr>\n",
              "  </tbody>\n",
              "</table>\n",
              "</div>\n",
              "      <button class=\"colab-df-convert\" onclick=\"convertToInteractive('df-e1dd0ca3-c4ee-4d0e-92e2-22a55057c0b3')\"\n",
              "              title=\"Convert this dataframe to an interactive table.\"\n",
              "              style=\"display:none;\">\n",
              "        \n",
              "  <svg xmlns=\"http://www.w3.org/2000/svg\" height=\"24px\"viewBox=\"0 0 24 24\"\n",
              "       width=\"24px\">\n",
              "    <path d=\"M0 0h24v24H0V0z\" fill=\"none\"/>\n",
              "    <path d=\"M18.56 5.44l.94 2.06.94-2.06 2.06-.94-2.06-.94-.94-2.06-.94 2.06-2.06.94zm-11 1L8.5 8.5l.94-2.06 2.06-.94-2.06-.94L8.5 2.5l-.94 2.06-2.06.94zm10 10l.94 2.06.94-2.06 2.06-.94-2.06-.94-.94-2.06-.94 2.06-2.06.94z\"/><path d=\"M17.41 7.96l-1.37-1.37c-.4-.4-.92-.59-1.43-.59-.52 0-1.04.2-1.43.59L10.3 9.45l-7.72 7.72c-.78.78-.78 2.05 0 2.83L4 21.41c.39.39.9.59 1.41.59.51 0 1.02-.2 1.41-.59l7.78-7.78 2.81-2.81c.8-.78.8-2.07 0-2.86zM5.41 20L4 18.59l7.72-7.72 1.47 1.35L5.41 20z\"/>\n",
              "  </svg>\n",
              "      </button>\n",
              "      \n",
              "  <style>\n",
              "    .colab-df-container {\n",
              "      display:flex;\n",
              "      flex-wrap:wrap;\n",
              "      gap: 12px;\n",
              "    }\n",
              "\n",
              "    .colab-df-convert {\n",
              "      background-color: #E8F0FE;\n",
              "      border: none;\n",
              "      border-radius: 50%;\n",
              "      cursor: pointer;\n",
              "      display: none;\n",
              "      fill: #1967D2;\n",
              "      height: 32px;\n",
              "      padding: 0 0 0 0;\n",
              "      width: 32px;\n",
              "    }\n",
              "\n",
              "    .colab-df-convert:hover {\n",
              "      background-color: #E2EBFA;\n",
              "      box-shadow: 0px 1px 2px rgba(60, 64, 67, 0.3), 0px 1px 3px 1px rgba(60, 64, 67, 0.15);\n",
              "      fill: #174EA6;\n",
              "    }\n",
              "\n",
              "    [theme=dark] .colab-df-convert {\n",
              "      background-color: #3B4455;\n",
              "      fill: #D2E3FC;\n",
              "    }\n",
              "\n",
              "    [theme=dark] .colab-df-convert:hover {\n",
              "      background-color: #434B5C;\n",
              "      box-shadow: 0px 1px 3px 1px rgba(0, 0, 0, 0.15);\n",
              "      filter: drop-shadow(0px 1px 2px rgba(0, 0, 0, 0.3));\n",
              "      fill: #FFFFFF;\n",
              "    }\n",
              "  </style>\n",
              "\n",
              "      <script>\n",
              "        const buttonEl =\n",
              "          document.querySelector('#df-e1dd0ca3-c4ee-4d0e-92e2-22a55057c0b3 button.colab-df-convert');\n",
              "        buttonEl.style.display =\n",
              "          google.colab.kernel.accessAllowed ? 'block' : 'none';\n",
              "\n",
              "        async function convertToInteractive(key) {\n",
              "          const element = document.querySelector('#df-e1dd0ca3-c4ee-4d0e-92e2-22a55057c0b3');\n",
              "          const dataTable =\n",
              "            await google.colab.kernel.invokeFunction('convertToInteractive',\n",
              "                                                     [key], {});\n",
              "          if (!dataTable) return;\n",
              "\n",
              "          const docLinkHtml = 'Like what you see? Visit the ' +\n",
              "            '<a target=\"_blank\" href=https://colab.research.google.com/notebooks/data_table.ipynb>data table notebook</a>'\n",
              "            + ' to learn more about interactive tables.';\n",
              "          element.innerHTML = '';\n",
              "          dataTable['output_type'] = 'display_data';\n",
              "          await google.colab.output.renderOutput(dataTable, element);\n",
              "          const docLink = document.createElement('div');\n",
              "          docLink.innerHTML = docLinkHtml;\n",
              "          element.appendChild(docLink);\n",
              "        }\n",
              "      </script>\n",
              "    </div>\n",
              "  </div>\n",
              "  "
            ]
          },
          "metadata": {},
          "execution_count": 22
        }
      ]
    },
    {
      "cell_type": "markdown",
      "source": [
        "R// Hay 987653 estudiantes."
      ],
      "metadata": {
        "id": "DGZhxAGcf_Dk"
      }
    },
    {
      "cell_type": "code",
      "source": [
        "df['NIVEL_EDUCACION'].value_counts()"
      ],
      "metadata": {
        "colab": {
          "base_uri": "https://localhost:8080/"
        },
        "id": "P9tRUWMvdkWe",
        "outputId": "4dfc4bda-fca5-49df-b1ae-785e90fb6bf1"
      },
      "execution_count": 17,
      "outputs": [
        {
          "output_type": "execute_result",
          "data": {
            "text/plain": [
              "BASICA      678915\n",
              "MEDIA_CH    227763\n",
              "MEDIA_TP     80975\n",
              "Name: NIVEL_EDUCACION, dtype: int64"
            ]
          },
          "metadata": {},
          "execution_count": 17
        }
      ]
    },
    {
      "cell_type": "markdown",
      "source": [
        "R// Hay 3 tipos de educacion, BASICA, MEDIA_CH Y MEDIA_TP"
      ],
      "metadata": {
        "id": "-rwSUW_-eS9e"
      }
    },
    {
      "cell_type": "code",
      "source": [
        "sns.countplot(data=df,x='NIVEL_EDUCACION')"
      ],
      "metadata": {
        "colab": {
          "base_uri": "https://localhost:8080/",
          "height": 298
        },
        "id": "YjsUXQTub3K-",
        "outputId": "a363160a-f15f-4566-8b32-d33f9a23b36e"
      },
      "execution_count": 15,
      "outputs": [
        {
          "output_type": "execute_result",
          "data": {
            "text/plain": [
              "<matplotlib.axes._subplots.AxesSubplot at 0x7f0d0f3b16a0>"
            ]
          },
          "metadata": {},
          "execution_count": 15
        },
        {
          "output_type": "display_data",
          "data": {
            "text/plain": [
              "<Figure size 432x288 with 1 Axes>"
            ],
            "image/png": "[encoded data removed]"
          },
          "metadata": {
            "needs_background": "light"
          }
        }
      ]
    },
    {
      "cell_type": "code",
      "source": [
        "df['REGION'].value_counts()"
      ],
      "metadata": {
        "colab": {
          "base_uri": "https://localhost:8080/"
        },
        "id": "ABDBRSNDdtfm",
        "outputId": "570a4ab0-227e-4dda-c170-be24c2fe1870"
      },
      "execution_count": 18,
      "outputs": [
        {
          "output_type": "execute_result",
          "data": {
            "text/plain": [
              "13    375577\n",
              "5      98338\n",
              "8      86823\n",
              "7      61118\n",
              "9      58677\n",
              "6      53462\n",
              "10     50821\n",
              "4      46925\n",
              "2      36446\n",
              "16     26979\n",
              "14     22512\n",
              "1      21974\n",
              "3      18396\n",
              "15     14391\n",
              "12      8693\n",
              "11      6521\n",
              "Name: REGION, dtype: int64"
            ]
          },
          "metadata": {},
          "execution_count": 18
        }
      ]
    },
    {
      "cell_type": "markdown",
      "source": [
        "R// Hay 16 regiones, de las cuales la 13 es la mas poblada."
      ],
      "metadata": {
        "id": "6fNcWzX3edcb"
      }
    },
    {
      "cell_type": "code",
      "source": [
        "sns.countplot(data=df,x='REGION')"
      ],
      "metadata": {
        "colab": {
          "base_uri": "https://localhost:8080/",
          "height": 296
        },
        "id": "g92ISIU9dF4e",
        "outputId": "05859e6a-2a80-4094-dcb3-d4c329e97fbc"
      },
      "execution_count": 16,
      "outputs": [
        {
          "output_type": "execute_result",
          "data": {
            "text/plain": [
              "<matplotlib.axes._subplots.AxesSubplot at 0x7f0d0eedc700>"
            ]
          },
          "metadata": {},
          "execution_count": 16
        },
        {
          "output_type": "display_data",
          "data": {
            "text/plain": [
              "<Figure size 432x288 with 1 Axes>"
            ],
            "image/png": "[encoded data removed]"
          },
          "metadata": {
            "needs_background": "light"
          }
        }
      ]
    },
    {
      "cell_type": "code",
      "source": [
        "df.info()"
      ],
      "metadata": {
        "colab": {
          "base_uri": "https://localhost:8080/"
        },
        "id": "vR9tTOjJj0LC",
        "outputId": "50d3d9c3-7f2b-42b3-aa4d-d3dbb03464ff"
      },
      "execution_count": 34,
      "outputs": [
        {
          "output_type": "stream",
          "name": "stdout",
          "text": [
            "<class 'pandas.core.frame.DataFrame'>\n",
            "RangeIndex: 987653 entries, 0 to 987652\n",
            "Data columns (total 7 columns):\n",
            " #   Column           Non-Null Count   Dtype  \n",
            "---  ------           --------------   -----  \n",
            " 0   REGION           987653 non-null  int64  \n",
            " 1   RURAL            987653 non-null  int64  \n",
            " 2   NIVEL_EDUCACION  987653 non-null  object \n",
            " 3   EDAD_ALUMNO      987653 non-null  int64  \n",
            " 4   NOTA_FINAL       987653 non-null  float64\n",
            " 5   ASISTENCIA       987653 non-null  int64  \n",
            " 6   SITUACION_FINAL  987653 non-null  object \n",
            "dtypes: float64(1), int64(4), object(2)\n",
            "memory usage: 52.7+ MB\n"
          ]
        }
      ]
    },
    {
      "cell_type": "markdown",
      "metadata": {
        "id": "cQQUmIb_KiaY"
      },
      "source": [
        "### 3. ¿Cómo es en general la distribución del rendimiento académico, la asistencia de los estudiantes y la edad? Haga un gráfico con subplots para mostrar esa distribución. "
      ]
    },
    {
      "cell_type": "code",
      "source": [
        "fig=plt.figure(figsize=(30,7))\n",
        "ax1=fig.add_subplot(131)#definir las variables para distinguir las columnas\n",
        "ax2=fig.add_subplot(132)\n",
        "ax3=fig.add_subplot(133)\n",
        "sns.histplot(data=df,x='NOTA_FINAL', bins=15, ax=ax1)\n",
        "sns.histplot(data=df,x='ASISTENCIA', bins=15, ax=ax2)\n",
        "sns.histplot(data=df,x='EDAD_ALUMNO', bins=15, ax=ax3)"
      ],
      "metadata": {
        "colab": {
          "base_uri": "https://localhost:8080/",
          "height": 460
        },
        "id": "8r0oJZT8h2Ot",
        "outputId": "555988b0-5659-44fe-fb97-fd2ed8d83e73"
      },
      "execution_count": 49,
      "outputs": [
        {
          "output_type": "execute_result",
          "data": {
            "text/plain": [
              "<matplotlib.axes._subplots.AxesSubplot at 0x7f0d0dc873d0>"
            ]
          },
          "metadata": {},
          "execution_count": 49
        },
        {
          "output_type": "display_data",
          "data": {
            "text/plain": [
              "<Figure size 2160x504 with 3 Axes>"
            ],
            "image/png": "[encoded data removed]"
          },
          "metadata": {
            "needs_background": "light"
          }
        }
      ]
    },
    {
      "cell_type": "markdown",
      "source": [
        "###4. ¿Hay valores atípicos en las variables numéricas?"
      ],
      "metadata": {
        "id": "q3m_3ZGu6Qj_"
      }
    },
    {
      "cell_type": "markdown",
      "source": [
        "R// si hay valores atipicos en las variables numericas, tal como NOTA_FINAL,ASISTENCIA, EDAD_ALUMNO, exceptuando la variable REGION, que no hay ningun valor atipico. "
      ],
      "metadata": {
        "id": "1-OnqC5znpxq"
      }
    },
    {
      "cell_type": "code",
      "source": [
        "fig,axes=plt.subplots(2,2, figsize=(10,20))\n",
        "# ax1=fig.add_subplot(131)#definir las variables para distinguir las columnas\n",
        "# ax2=fig.add_subplot(132)\n",
        "# ax3=fig.add_subplot(133)\n",
        "# ax4=fig.add_subplot(134)\n",
        "sns.boxplot(data=df,y='NOTA_FINAL', ax=axes[0,0])\n",
        "sns.boxplot(data=df,y='ASISTENCIA', ax=axes[0,1])\n",
        "sns.boxplot(data=df,y='EDAD_ALUMNO',ax=axes[1,0])\n",
        "sns.boxplot(data=df,y='REGION',ax=axes[1,1])"
      ],
      "metadata": {
        "colab": {
          "base_uri": "https://localhost:8080/",
          "height": 1000
        },
        "id": "PSQLH6-tlKaD",
        "outputId": "4ac06ab6-6ea4-4b9e-9b3c-25acf9d97ade"
      },
      "execution_count": 53,
      "outputs": [
        {
          "output_type": "execute_result",
          "data": {
            "text/plain": [
              "<matplotlib.axes._subplots.AxesSubplot at 0x7f0d0d7eb070>"
            ]
          },
          "metadata": {},
          "execution_count": 53
        },
        {
          "output_type": "display_data",
          "data": {
            "text/plain": [
              "<Figure size 720x1440 with 4 Axes>"
            ],
            "image/png": "[encoded data removed]"
          },
          "metadata": {
            "needs_background": "light"
          }
        }
      ]
    },
    {
      "cell_type": "markdown",
      "source": [
        "5. Realice un histograma de NOTA_FINAL. Consulte la escala de calificaciones en Chile. Observa algo?"
      ],
      "metadata": {
        "id": "a9gkH72l6bnA"
      }
    },
    {
      "cell_type": "markdown",
      "source": [
        "La escala de calificaciones en chile es del 2 al 7, siendo el 2 la minima nota, 4 la nota para aprobar y 7 la maxima nota, se puede observar que la mayoria de estudiantes de la variable 'NOTA_FINAL' estan por encima de una nota aceptable y son muy pocos aquellos que la han perdido."
      ],
      "metadata": {
        "id": "0KUWPdvLoNu7"
      }
    },
    {
      "cell_type": "code",
      "source": [
        "sns.histplot(data=df,x='NOTA_FINAL', bins=10, kde=True)"
      ],
      "metadata": {
        "colab": {
          "base_uri": "https://localhost:8080/",
          "height": 297
        },
        "id": "jrgb121Bn8OL",
        "outputId": "9b0c15ad-0a2e-4fd8-e9ab-f432b4f260db"
      },
      "execution_count": 56,
      "outputs": [
        {
          "output_type": "execute_result",
          "data": {
            "text/plain": [
              "<matplotlib.axes._subplots.AxesSubplot at 0x7f0d0d6b8970>"
            ]
          },
          "metadata": {},
          "execution_count": 56
        },
        {
          "output_type": "display_data",
          "data": {
            "text/plain": [
              "<Figure size 432x288 with 1 Axes>"
            ],
            "image/png": "[encoded data removed]"
          },
          "metadata": {
            "needs_background": "light"
          }
        }
      ]
    },
    {
      "cell_type": "code",
      "source": [
        "sns.histplot(data=df,x='NOTA_FINAL', stat=\"count\")"
      ],
      "metadata": {
        "colab": {
          "base_uri": "https://localhost:8080/",
          "height": 297
        },
        "id": "sw51wk6PqG0J",
        "outputId": "563948fd-1e81-494e-80d6-7cb188abc863"
      },
      "execution_count": 58,
      "outputs": [
        {
          "output_type": "execute_result",
          "data": {
            "text/plain": [
              "<matplotlib.axes._subplots.AxesSubplot at 0x7f0d0ae4ecd0>"
            ]
          },
          "metadata": {},
          "execution_count": 58
        },
        {
          "output_type": "display_data",
          "data": {
            "text/plain": [
              "<Figure size 432x288 with 1 Axes>"
            ],
            "image/png": "[encoded data removed]"
          },
          "metadata": {
            "needs_background": "light"
          }
        }
      ]
    },
    {
      "cell_type": "markdown",
      "metadata": {
        "id": "QE3Mq19tKiac"
      },
      "source": [
        "**Notas:** Revise la documentación de `seaborn.histplot`y verifique cómo cambian sus gráficos al cambiar los argumentos:`bins`,`stat`,`kde`y otros que llamen su atención."
      ]
    },
    {
      "cell_type": "markdown",
      "metadata": {
        "id": "SRxG4GJyKiad"
      },
      "source": [
        "### 6. ¿Cómo se distribuyen los datos por tipo de educación?"
      ]
    },
    {
      "cell_type": "markdown",
      "source": [
        "según el grafico se puede observar que la mayoria de estudiantes se encuentran en educacion basica, luego estan en media_ch y por ultimo la minoria en media_tp"
      ],
      "metadata": {
        "id": "5GsP_uT6qnLb"
      }
    },
    {
      "cell_type": "code",
      "source": [
        "sns.countplot(data=df,x='NIVEL_EDUCACION')"
      ],
      "metadata": {
        "colab": {
          "base_uri": "https://localhost:8080/",
          "height": 298
        },
        "id": "7WoA_8GNqS_S",
        "outputId": "5073bea2-16d2-416d-dd54-efd28d6f9f86"
      },
      "execution_count": 59,
      "outputs": [
        {
          "output_type": "execute_result",
          "data": {
            "text/plain": [
              "<matplotlib.axes._subplots.AxesSubplot at 0x7f0d0adaabb0>"
            ]
          },
          "metadata": {},
          "execution_count": 59
        },
        {
          "output_type": "display_data",
          "data": {
            "text/plain": [
              "<Figure size 432x288 with 1 Axes>"
            ],
            "image/png": "[encoded data removed]"
          },
          "metadata": {
            "needs_background": "light"
          }
        }
      ]
    },
    {
      "cell_type": "markdown",
      "metadata": {
        "id": "IPoLNPW4Kiae"
      },
      "source": [
        "### 7. ¿Cómo se distribuyen los datos de acuerdo a la situación final de los estudiantes?\n"
      ]
    },
    {
      "cell_type": "markdown",
      "source": [
        "Segun el grafico podemos observar que la mayoria de estudiantes han sido promovidos."
      ],
      "metadata": {
        "id": "eCcnyCfeq-DS"
      }
    },
    {
      "cell_type": "code",
      "source": [
        "sns.countplot(data=df,x='SITUACION_FINAL')"
      ],
      "metadata": {
        "colab": {
          "base_uri": "https://localhost:8080/",
          "height": 297
        },
        "id": "cDnrjYOWq5YC",
        "outputId": "df44bb01-c99a-425f-bd13-58781e8fa34a"
      },
      "execution_count": 60,
      "outputs": [
        {
          "output_type": "execute_result",
          "data": {
            "text/plain": [
              "<matplotlib.axes._subplots.AxesSubplot at 0x7f0d0da43d30>"
            ]
          },
          "metadata": {},
          "execution_count": 60
        },
        {
          "output_type": "display_data",
          "data": {
            "text/plain": [
              "<Figure size 432x288 with 1 Axes>"
            ],
            "image/png": "[encoded data removed]"
          },
          "metadata": {
            "needs_background": "light"
          }
        }
      ]
    },
    {
      "cell_type": "markdown",
      "metadata": {
        "id": "ezuO9rG_Kiae"
      },
      "source": [
        "¿Cuáles son las posibles situaciones finales de un estudiante? ¿Coincide esto con la información inicial?"
      ]
    },
    {
      "cell_type": "markdown",
      "source": [
        "¿Cómo imputamos los anteriores valores por 'P'? Hint: Funciones anónimas."
      ],
      "metadata": {
        "id": "LcJvRB2wFqtX"
      }
    },
    {
      "cell_type": "markdown",
      "source": [
        "¿Qué podemos concluir respecto al análisis exploratorio? "
      ],
      "metadata": {
        "id": "lkv-FyLl7HlW"
      }
    },
    {
      "cell_type": "markdown",
      "metadata": {
        "id": "1OF-09e3Kiag"
      },
      "source": [
        "## Análisis Exploratorio Univariado.\n",
        "\n",
        "A continuación, agregamos algunos análisis multivariados."
      ]
    },
    {
      "cell_type": "markdown",
      "metadata": {
        "id": "WfFaD_HMKiag"
      },
      "source": [
        "### 1. ¿Cómo varía la asistencia por nivel educacional y zona?\n",
        "\n",
        "¿Hay menor/mayor asistencia en educación básica que en media? ¿Hay menor/mayor asistencia en zonas rurales/urbanas?"
      ]
    },
    {
      "cell_type": "markdown",
      "metadata": {
        "id": "cYFC4FoZKiaj"
      },
      "source": [
        "### 2. ¿Cómo varía la asistencia y rendimiento académico por región?\n"
      ]
    },
    {
      "cell_type": "markdown",
      "metadata": {
        "id": "1jT41L0EKiaj"
      },
      "source": [
        "### 3. ¿Hay correlación entre el rendimiento escolar y la asistencia?\n"
      ]
    },
    {
      "cell_type": "markdown",
      "source": [
        "4. ¿Qué se puede concluir del análisis?"
      ],
      "metadata": {
        "id": "XpacRbNy7e36"
      }
    }
  ],
  "metadata": {
    "colab": {
      "provenance": [],
      "include_colab_link": true
    },
    "kernelspec": {
      "display_name": "Python 3",
      "language": "python",
      "name": "python3"
    },
    "language_info": {
      "codemirror_mode": {
        "name": "ipython",
        "version": 3
      },
      "file_extension": ".py",
      "mimetype": "text/x-python",
      "name": "python",
      "nbconvert_exporter": "python",
      "pygments_lexer": "ipython3",
      "version": "3.8.8"
    }
  },
  "nbformat": 4,
  "nbformat_minor": 0
}