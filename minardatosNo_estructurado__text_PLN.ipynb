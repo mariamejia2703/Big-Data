{
  "nbformat": 4,
  "nbformat_minor": 0,
  "metadata": {
    "colab": {
      "provenance": [],
      "authorship_tag": "ABX9TyPNiR/cmBGFD0nMvT1jfUSf",
      "include_colab_link": true
    },
    "kernelspec": {
      "name": "python3",
      "display_name": "Python 3"
    },
    "language_info": {
      "name": "python"
    }
  },
  "cells": [
    {
      "cell_type": "markdown",
      "metadata": {
        "id": "view-in-github",
        "colab_type": "text"
      },
      "source": [
        "<a href=\"https://colab.research.google.com/github/mariamejia2703/BigData/blob/master/minardatosNo_estructurado__text_PLN.ipynb\" target=\"_parent\"><img src=\"https://colab.research.google.com/assets/colab-badge.svg\" alt=\"Open In Colab\"/></a>"
      ]
    },
    {
      "cell_type": "code",
      "execution_count": 1,
      "metadata": {
        "id": "PYia5VKve8Kl"
      },
      "outputs": [],
      "source": [
        "import pandas as pd #manejo de BD\n",
        "import numpy as no #manejo de listas\n",
        "import nltk #procesamiento de lenguaje natural\n",
        "import os #sistema operativo  "
      ]
    },
    {
      "cell_type": "code",
      "source": [
        "import nltk.corpus"
      ],
      "metadata": {
        "id": "zzOCITw5fo-n"
      },
      "execution_count": 2,
      "outputs": []
    },
    {
      "cell_type": "code",
      "source": [
        "text=\"\"\"\n",
        "Will you still love me when Im no longer young and beautiful?\n",
        "Will you still love me when I got nothing but my aching soul?\n",
        "I know you will, I know you will, I know that you will\n",
        "Will you still love me when Im no longer beautiful?\n",
        "\"\"\""
      ],
      "metadata": {
        "id": "mRK6oNcoftrH"
      },
      "execution_count": 8,
      "outputs": []
    },
    {
      "cell_type": "markdown",
      "source": [
        "TOKENIZAR: CONVERTIR TEXTO DE STR A LISTA"
      ],
      "metadata": {
        "id": "Vi5gfm9igyJs"
      }
    },
    {
      "cell_type": "code",
      "source": [
        "nltk.download('punkt')\n",
        "from nltk.tokenize import word_tokenize\n",
        "text=text.lower()#poner en minuscula\n",
        "text"
      ],
      "metadata": {
        "colab": {
          "base_uri": "https://localhost:8080/",
          "height": 87
        },
        "id": "OzceRgpcg69F",
        "outputId": "ff951161-3ce4-4c52-b699-45d00b3ee5a4"
      },
      "execution_count": 9,
      "outputs": [
        {
          "output_type": "stream",
          "name": "stderr",
          "text": [
            "[nltk_data] Downloading package punkt to /root/nltk_data...\n",
            "[nltk_data]   Package punkt is already up-to-date!\n"
          ]
        },
        {
          "output_type": "execute_result",
          "data": {
            "text/plain": [
              "'\\nwill you still love me when im no longer young and beautiful?\\nwill you still love me when i got nothing but my aching soul?\\ni know you will, i know you will, i know that you will\\nwill you still love me when im no longer beautiful?\\n'"
            ],
            "application/vnd.google.colaboratory.intrinsic+json": {
              "type": "string"
            }
          },
          "metadata": {},
          "execution_count": 9
        }
      ]
    },
    {
      "cell_type": "code",
      "source": [
        "token=word_tokenize(text)\n",
        "token\n"
      ],
      "metadata": {
        "colab": {
          "base_uri": "https://localhost:8080/"
        },
        "id": "hRvTofxPhHcs",
        "outputId": "5540eb8b-0796-42d7-a384-c5f4f5ca649a"
      },
      "execution_count": 10,
      "outputs": [
        {
          "output_type": "execute_result",
          "data": {
            "text/plain": [
              "['will',\n",
              " 'you',\n",
              " 'still',\n",
              " 'love',\n",
              " 'me',\n",
              " 'when',\n",
              " 'im',\n",
              " 'no',\n",
              " 'longer',\n",
              " 'young',\n",
              " 'and',\n",
              " 'beautiful',\n",
              " '?',\n",
              " 'will',\n",
              " 'you',\n",
              " 'still',\n",
              " 'love',\n",
              " 'me',\n",
              " 'when',\n",
              " 'i',\n",
              " 'got',\n",
              " 'nothing',\n",
              " 'but',\n",
              " 'my',\n",
              " 'aching',\n",
              " 'soul',\n",
              " '?',\n",
              " 'i',\n",
              " 'know',\n",
              " 'you',\n",
              " 'will',\n",
              " ',',\n",
              " 'i',\n",
              " 'know',\n",
              " 'you',\n",
              " 'will',\n",
              " ',',\n",
              " 'i',\n",
              " 'know',\n",
              " 'that',\n",
              " 'you',\n",
              " 'will',\n",
              " 'will',\n",
              " 'you',\n",
              " 'still',\n",
              " 'love',\n",
              " 'me',\n",
              " 'when',\n",
              " 'im',\n",
              " 'no',\n",
              " 'longer',\n",
              " 'beautiful',\n",
              " '?']"
            ]
          },
          "metadata": {},
          "execution_count": 10
        }
      ]
    },
    {
      "cell_type": "code",
      "source": [
        "from nltk.probability import FreqDist\n",
        "fdist= FreqDist(token)\n",
        "fdist"
      ],
      "metadata": {
        "colab": {
          "base_uri": "https://localhost:8080/"
        },
        "id": "T6vKQobYnYX8",
        "outputId": "60cd170a-b557-4d5b-d338-87af9aa7b3b6"
      },
      "execution_count": 11,
      "outputs": [
        {
          "output_type": "execute_result",
          "data": {
            "text/plain": [
              "FreqDist({'will': 6, 'you': 6, 'i': 4, 'still': 3, 'love': 3, 'me': 3, 'when': 3, '?': 3, 'know': 3, 'im': 2, ...})"
            ]
          },
          "metadata": {},
          "execution_count": 11
        }
      ]
    },
    {
      "cell_type": "code",
      "source": [
        "fdist1 = fdist.most_common(15)\n",
        "fdist1"
      ],
      "metadata": {
        "colab": {
          "base_uri": "https://localhost:8080/"
        },
        "id": "4xzj3SdKoARS",
        "outputId": "43f113d8-7eab-478b-ac7f-acd3d59775d9"
      },
      "execution_count": 14,
      "outputs": [
        {
          "output_type": "execute_result",
          "data": {
            "text/plain": [
              "[('will', 6),\n",
              " ('you', 6),\n",
              " ('i', 4),\n",
              " ('still', 3),\n",
              " ('love', 3),\n",
              " ('me', 3),\n",
              " ('when', 3),\n",
              " ('?', 3),\n",
              " ('know', 3),\n",
              " ('im', 2),\n",
              " ('no', 2),\n",
              " ('longer', 2),\n",
              " ('beautiful', 2),\n",
              " (',', 2),\n",
              " ('young', 1)]"
            ]
          },
          "metadata": {},
          "execution_count": 14
        }
      ]
    },
    {
      "cell_type": "code",
      "source": [
        "#derivacion(stemming)\n",
        "from nltk.stem import PorterStemmer\n",
        "pst = PorterStemmer()\n",
        "pst.stem(\"changed\")"
      ],
      "metadata": {
        "colab": {
          "base_uri": "https://localhost:8080/",
          "height": 35
        },
        "id": "igYJAoWUoShA",
        "outputId": "f9f41b64-47c2-4ff2-a56b-00b68471c427"
      },
      "execution_count": 15,
      "outputs": [
        {
          "output_type": "execute_result",
          "data": {
            "text/plain": [
              "'chang'"
            ],
            "application/vnd.google.colaboratory.intrinsic+json": {
              "type": "string"
            }
          },
          "metadata": {},
          "execution_count": 15
        }
      ]
    },
    {
      "cell_type": "code",
      "source": [
        "stm = token\n",
        "token_process=[] #Generamos una lista vacia para que guarde las palabras despues de hacer derivacion\n",
        "\n",
        "for word in stm:\n",
        "  print(word+ \":\" + pst.stem(word))\n",
        "  token_process.append(pst.stem(word))\n",
        "\n"
      ],
      "metadata": {
        "colab": {
          "base_uri": "https://localhost:8080/"
        },
        "id": "D0EePON2ouhE",
        "outputId": "3e9040ed-7395-4334-9a1c-03c467f24860"
      },
      "execution_count": 16,
      "outputs": [
        {
          "output_type": "stream",
          "name": "stdout",
          "text": [
            "will:will\n",
            "you:you\n",
            "still:still\n",
            "love:love\n",
            "me:me\n",
            "when:when\n",
            "im:im\n",
            "no:no\n",
            "longer:longer\n",
            "young:young\n",
            "and:and\n",
            "beautiful:beauti\n",
            "?:?\n",
            "will:will\n",
            "you:you\n",
            "still:still\n",
            "love:love\n",
            "me:me\n",
            "when:when\n",
            "i:i\n",
            "got:got\n",
            "nothing:noth\n",
            "but:but\n",
            "my:my\n",
            "aching:ach\n",
            "soul:soul\n",
            "?:?\n",
            "i:i\n",
            "know:know\n",
            "you:you\n",
            "will:will\n",
            ",:,\n",
            "i:i\n",
            "know:know\n",
            "you:you\n",
            "will:will\n",
            ",:,\n",
            "i:i\n",
            "know:know\n",
            "that:that\n",
            "you:you\n",
            "will:will\n",
            "will:will\n",
            "you:you\n",
            "still:still\n",
            "love:love\n",
            "me:me\n",
            "when:when\n",
            "im:im\n",
            "no:no\n",
            "longer:longer\n",
            "beautiful:beauti\n",
            "?:?\n"
          ]
        }
      ]
    },
    {
      "cell_type": "markdown",
      "source": [
        "STOP WORDS\n"
      ],
      "metadata": {
        "id": "rgnWPIrGpmlS"
      }
    },
    {
      "cell_type": "code",
      "source": [
        "from nltk.corpus import stopwords\n",
        "nltk.download('stopwords')\n",
        "\n",
        "palabras_vacias = set(stopwords.words(\"english\"))\n",
        "palabras_vacias\n",
        "\n",
        "text_without_stopwords = [x for x in token if x not in palabras_vacias]#crear lista para eliminar palabras vacias de nuestro texto\n",
        "text_without_stopwords\n",
        "\n",
        "fdist= FreqDist(text_without_stopwords)\n",
        "fdist"
      ],
      "metadata": {
        "colab": {
          "base_uri": "https://localhost:8080/"
        },
        "id": "eP9f3B-TpkFh",
        "outputId": "43525e95-35c3-44f8-bedd-3ae59f70ed4f"
      },
      "execution_count": 19,
      "outputs": [
        {
          "output_type": "stream",
          "name": "stderr",
          "text": [
            "[nltk_data] Downloading package stopwords to /root/nltk_data...\n",
            "[nltk_data]   Package stopwords is already up-to-date!\n"
          ]
        },
        {
          "output_type": "execute_result",
          "data": {
            "text/plain": [
              "FreqDist({'still': 3, 'love': 3, '?': 3, 'know': 3, 'im': 2, 'longer': 2, 'beautiful': 2, ',': 2, 'young': 1, 'got': 1, ...})"
            ]
          },
          "metadata": {},
          "execution_count": 19
        }
      ]
    },
    {
      "cell_type": "code",
      "source": [
        "#revisar que significado tiene cada una de las palabras en el texto\n",
        "nltk.download('averaged_perceptron_tagger')\n",
        "\n",
        "for t in text_without_stopwords:\n",
        "  print(nltk.pos_tag([t]))"
      ],
      "metadata": {
        "colab": {
          "base_uri": "https://localhost:8080/"
        },
        "id": "l3qsNsFdrTMd",
        "outputId": "14d5acd6-9338-4b65-aea5-8da76d400169"
      },
      "execution_count": 20,
      "outputs": [
        {
          "output_type": "stream",
          "name": "stderr",
          "text": [
            "[nltk_data] Downloading package averaged_perceptron_tagger to\n",
            "[nltk_data]     /root/nltk_data...\n",
            "[nltk_data]   Unzipping taggers/averaged_perceptron_tagger.zip.\n"
          ]
        },
        {
          "output_type": "stream",
          "name": "stdout",
          "text": [
            "[('still', 'RB')]\n",
            "[('love', 'NN')]\n",
            "[('im', 'NN')]\n",
            "[('longer', 'NN')]\n",
            "[('young', 'JJ')]\n",
            "[('beautiful', 'NN')]\n",
            "[('?', '.')]\n",
            "[('still', 'RB')]\n",
            "[('love', 'NN')]\n",
            "[('got', 'VBD')]\n",
            "[('nothing', 'NN')]\n",
            "[('aching', 'VBG')]\n",
            "[('soul', 'NN')]\n",
            "[('?', '.')]\n",
            "[('know', 'VB')]\n",
            "[(',', ',')]\n",
            "[('know', 'VB')]\n",
            "[(',', ',')]\n",
            "[('know', 'VB')]\n",
            "[('still', 'RB')]\n",
            "[('love', 'NN')]\n",
            "[('im', 'NN')]\n",
            "[('longer', 'NN')]\n",
            "[('beautiful', 'NN')]\n",
            "[('?', '.')]\n"
          ]
        }
      ]
    },
    {
      "cell_type": "markdown",
      "source": [
        "TALLER 4 \n",
        "\n",
        "1. En parejas realizar un proceso de webscraping (la pagina que se desee, buscar un ejercicio que genere valor) y obtener desde alli una serie de textos (o texto).\n",
        "\n",
        "ej: por medio de los reviews de google ingreso a los comentarios de juan valdez, comparo las palabras de los comentarios postivos de juan valdez medellin y bogota al final pudo concluir.\n",
        "\n",
        "2. hacer un proceso de preprocesamiento de texto.\n",
        "\n",
        "3. Crear una nube de palabras, las palabras que mas se repiten son aquellas mas grandes, de acuerdo con las frecuencias (sin stopwords).\n",
        "\n"
      ],
      "metadata": {
        "id": "cPNGd-LSsJSS"
      }
    }
  ]
}