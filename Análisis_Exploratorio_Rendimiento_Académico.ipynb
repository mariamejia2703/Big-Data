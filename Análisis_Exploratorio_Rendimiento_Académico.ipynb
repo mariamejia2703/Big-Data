{
  "cells": [
    {
      "cell_type": "markdown",
      "metadata": {
        "id": "view-in-github",
        "colab_type": "text"
      },
      "source": [
        "<a href=\"https://colab.research.google.com/github/mariamejia2703/BigData/blob/master/An%C3%A1lisis_Exploratorio_Rendimiento_Acad%C3%A9mico.ipynb\" target=\"_parent\"><img src=\"https://colab.research.google.com/assets/colab-badge.svg\" alt=\"Open In Colab\"/></a>"
      ]
    },
    {
      "cell_type": "markdown",
      "metadata": {
        "id": "DnJmNJkXKiaU"
      },
      "source": [
        "## Introducción.\n",
        ". En particular, se busca analizar la relación entre el **rendimiento escolar**, representado por el promedio general de notas de cada estudiante, y factores determinantes como el **porcentaje de asistencia a clases, y la razón entre docentes y estudiantes de los establecimientos educacionales**. \n",
        "\n",
        "Para este estudio, se utilizarán datos generados y publicados por el  Centro de Estudios del Ministerio de Educación de Chile, https://centroestudios.mineduc.cl/: <br>\n",
        "\n",
        "*El Centro de Estudios pone a disposición del público en general la plataforma Datos Abiertos para compartir información estadística en materia de educación, que incluye bases de datos de establecimientos educacionales, estudiantes y párvulos, docentes y asistentes de la educación, y sostenedores. Además, se entrega información georreferenciada.*\n",
        "\n",
        "En este tutorial, nos enfocaremos en el análisis exploratorio de uno de los conjuntos de datos publicados por el MINEDUC, relativo al rendimiento escolar de los estudiantes de Chile en el año 2021.\n"
      ]
    },
    {
      "cell_type": "markdown",
      "metadata": {
        "id": "jXYUDNrFKiaV"
      },
      "source": [
        "### 1. Lectura de datos"
      ]
    },
    {
      "cell_type": "code",
      "execution_count": 1,
      "metadata": {
        "id": "8w6Oum_tKiaV",
        "colab": {
          "base_uri": "https://localhost:8080/",
          "height": 183
        },
        "outputId": "e2e74989-a281-45cd-88e2-1ed56842cd6a"
      },
      "outputs": [
        {
          "output_type": "error",
          "ename": "NameError",
          "evalue": "ignored",
          "traceback": [
            "\u001b[0;31m---------------------------------------------------------------------------\u001b[0m",
            "\u001b[0;31mNameError\u001b[0m                                 Traceback (most recent call last)",
            "\u001b[0;32m<ipython-input-1-391703258b8b>\u001b[0m in \u001b[0;36m<module>\u001b[0;34m\u001b[0m\n\u001b[0;32m----> 1\u001b[0;31m \u001b[0mdf\u001b[0m\u001b[0;34m=\u001b[0m\u001b[0mpd\u001b[0m\u001b[0;34m.\u001b[0m\u001b[0mread_csv\u001b[0m\u001b[0;34m(\u001b[0m\u001b[0;34m'https://raw.githubusercontent.com/paguirre-uc/mds3020_2022/main/semana5/RendimientoEscolar_EDA.csv'\u001b[0m\u001b[0;34m)\u001b[0m\u001b[0;34m\u001b[0m\u001b[0;34m\u001b[0m\u001b[0m\n\u001b[0m\u001b[1;32m      2\u001b[0m \u001b[0mdf\u001b[0m\u001b[0;34m.\u001b[0m\u001b[0mhead\u001b[0m\u001b[0;34m(\u001b[0m\u001b[0;36m50\u001b[0m\u001b[0;34m)\u001b[0m\u001b[0;34m\u001b[0m\u001b[0;34m\u001b[0m\u001b[0m\n",
            "\u001b[0;31mNameError\u001b[0m: name 'pd' is not defined"
          ]
        }
      ],
      "source": [
        "df=pd.read_csv('https://raw.githubusercontent.com/paguirre-uc/mds3020_2022/main/semana5/RendimientoEscolar_EDA.csv')\n",
        "df.head(50)"
      ]
    },
    {
      "cell_type": "markdown",
      "source": [
        "a. ¿Cuántos registros y atributos tiene la base de datos?\n",
        "b. Revisar la BD y transformar a categoría las variables que sean de este tipo.\n",
        "c. Renombrar la columna PROM_GRAL como NOTA_FINAL, TIPO_ENSE como NIVEL_EDUCACION y EDAD_ALU como EDAD_ALUMNO "
      ],
      "metadata": {
        "id": "ER2javRL5QR8"
      }
    },
    {
      "cell_type": "markdown",
      "metadata": {
        "id": "u6qNYKTAKiaW"
      },
      "source": [
        "### 2. ¿Cuántos estudiantes, tipos de educación, regiones hay? ¿Cuál es la región con más estudiantes?"
      ]
    },
    {
      "cell_type": "markdown",
      "metadata": {
        "id": "cQQUmIb_KiaY"
      },
      "source": [
        "### 3. ¿Cómo es en general la distribución del rendimiento académico, la asistencia de los estudiantes y la edad? Haga un gráfico con subplots para mostrar esa distribución. "
      ]
    },
    {
      "cell_type": "markdown",
      "source": [
        "###4. ¿Hay valores atípicos en las variables numéricas?"
      ],
      "metadata": {
        "id": "q3m_3ZGu6Qj_"
      }
    },
    {
      "cell_type": "markdown",
      "source": [
        "5. Realice un histograma de NOTA_FINAL. Consulte la escala de calificaciones en Chile. Observa algo?"
      ],
      "metadata": {
        "id": "a9gkH72l6bnA"
      }
    },
    {
      "cell_type": "markdown",
      "metadata": {
        "id": "QE3Mq19tKiac"
      },
      "source": [
        "**Notas:** Revise la documentación de `seaborn.histplot`y verifique cómo cambian sus gráficos al cambiar los argumentos:`bins`,`stat`,`kde`y otros que llamen su atención."
      ]
    },
    {
      "cell_type": "markdown",
      "metadata": {
        "id": "SRxG4GJyKiad"
      },
      "source": [
        "### 6. ¿Cómo se distribuyen los datos por tipo de educación?"
      ]
    },
    {
      "cell_type": "markdown",
      "metadata": {
        "id": "IPoLNPW4Kiae"
      },
      "source": [
        "### 7. ¿Cómo se distribuyen los datos de acuerdo a la situación final de los estudiantes?\n"
      ]
    },
    {
      "cell_type": "markdown",
      "metadata": {
        "id": "ezuO9rG_Kiae"
      },
      "source": [
        "¿Cuáles son las posibles situaciones finales de un estudiante? ¿Coincide esto con la información inicial?"
      ]
    },
    {
      "cell_type": "markdown",
      "source": [
        "¿Cómo imputamos los anteriores valores por 'P'? Hint: Funciones anónimas."
      ],
      "metadata": {
        "id": "LcJvRB2wFqtX"
      }
    },
    {
      "cell_type": "markdown",
      "source": [
        "¿Qué podemos concluir respecto al análisis exploratorio? "
      ],
      "metadata": {
        "id": "lkv-FyLl7HlW"
      }
    },
    {
      "cell_type": "markdown",
      "metadata": {
        "id": "1OF-09e3Kiag"
      },
      "source": [
        "## Análisis Exploratorio Univariado.\n",
        "\n",
        "A continuación, agregamos algunos análisis multivariados."
      ]
    },
    {
      "cell_type": "markdown",
      "metadata": {
        "id": "WfFaD_HMKiag"
      },
      "source": [
        "### 1. ¿Cómo varía la asistencia por nivel educacional y zona?\n",
        "\n",
        "¿Hay menor/mayor asistencia en educación básica que en media? ¿Hay menor/mayor asistencia en zonas rurales/urbanas?"
      ]
    },
    {
      "cell_type": "markdown",
      "metadata": {
        "id": "cYFC4FoZKiaj"
      },
      "source": [
        "### 2. ¿Cómo varía la asistencia y rendimiento académico por región?\n"
      ]
    },
    {
      "cell_type": "markdown",
      "metadata": {
        "id": "1jT41L0EKiaj"
      },
      "source": [
        "### 3. ¿Hay correlación entre el rendimiento escolar y la asistencia?\n"
      ]
    },
    {
      "cell_type": "markdown",
      "source": [
        "4. ¿Qué se puede concluir del análisis?"
      ],
      "metadata": {
        "id": "XpacRbNy7e36"
      }
    }
  ],
  "metadata": {
    "colab": {
      "provenance": [],
      "include_colab_link": true
    },
    "kernelspec": {
      "display_name": "Python 3",
      "language": "python",
      "name": "python3"
    },
    "language_info": {
      "codemirror_mode": {
        "name": "ipython",
        "version": 3
      },
      "file_extension": ".py",
      "mimetype": "text/x-python",
      "name": "python",
      "nbconvert_exporter": "python",
      "pygments_lexer": "ipython3",
      "version": "3.8.8"
    }
  },
  "nbformat": 4,
  "nbformat_minor": 0
}